{
 "cells": [
  {
   "cell_type": "code",
   "execution_count": 1,
   "id": "63b2559f-6254-4a35-864b-1b053afa2e87",
   "metadata": {},
   "outputs": [
    {
     "data": {
      "application/vnd.jupyter.widget-view+json": {
       "model_id": "5a458d0c37ff48e2baece02ed8a89f19",
       "version_major": 2,
       "version_minor": 0
      },
      "text/plain": [
       "modules.json:   0%|          | 0.00/349 [00:00<?, ?B/s]"
      ]
     },
     "metadata": {},
     "output_type": "display_data"
    },
    {
     "data": {
      "application/vnd.jupyter.widget-view+json": {
       "model_id": "df9e0e4cccb8461e981d0ead2c6cf86b",
       "version_major": 2,
       "version_minor": 0
      },
      "text/plain": [
       "config_sentence_transformers.json:   0%|          | 0.00/116 [00:00<?, ?B/s]"
      ]
     },
     "metadata": {},
     "output_type": "display_data"
    },
    {
     "data": {
      "application/vnd.jupyter.widget-view+json": {
       "model_id": "ad44ade094034d88b91693d3c54b5fd6",
       "version_major": 2,
       "version_minor": 0
      },
      "text/plain": [
       "README.md: 0.00B [00:00, ?B/s]"
      ]
     },
     "metadata": {},
     "output_type": "display_data"
    },
    {
     "data": {
      "application/vnd.jupyter.widget-view+json": {
       "model_id": "5f8dc03490b045ef9d803b47942adf98",
       "version_major": 2,
       "version_minor": 0
      },
      "text/plain": [
       "sentence_bert_config.json:   0%|          | 0.00/53.0 [00:00<?, ?B/s]"
      ]
     },
     "metadata": {},
     "output_type": "display_data"
    },
    {
     "data": {
      "application/vnd.jupyter.widget-view+json": {
       "model_id": "36fdd4f8cc42475d9fac451e66a61580",
       "version_major": 2,
       "version_minor": 0
      },
      "text/plain": [
       "config.json:   0%|          | 0.00/612 [00:00<?, ?B/s]"
      ]
     },
     "metadata": {},
     "output_type": "display_data"
    },
    {
     "name": "stderr",
     "output_type": "stream",
     "text": [
      "Xet Storage is enabled for this repo, but the 'hf_xet' package is not installed. Falling back to regular HTTP download. For better performance, install the package with: `pip install huggingface_hub[hf_xet]` or `pip install hf_xet`\n"
     ]
    },
    {
     "data": {
      "application/vnd.jupyter.widget-view+json": {
       "model_id": "f99a64ece08c4ba9897528784fd2f33b",
       "version_major": 2,
       "version_minor": 0
      },
      "text/plain": [
       "model.safetensors:   0%|          | 0.00/90.9M [00:00<?, ?B/s]"
      ]
     },
     "metadata": {},
     "output_type": "display_data"
    },
    {
     "data": {
      "application/vnd.jupyter.widget-view+json": {
       "model_id": "d5b0273033dc4f769d4ed5207981a691",
       "version_major": 2,
       "version_minor": 0
      },
      "text/plain": [
       "tokenizer_config.json:   0%|          | 0.00/350 [00:00<?, ?B/s]"
      ]
     },
     "metadata": {},
     "output_type": "display_data"
    },
    {
     "data": {
      "application/vnd.jupyter.widget-view+json": {
       "model_id": "e3277a420ba347079d129aad7f1edfe4",
       "version_major": 2,
       "version_minor": 0
      },
      "text/plain": [
       "vocab.txt: 0.00B [00:00, ?B/s]"
      ]
     },
     "metadata": {},
     "output_type": "display_data"
    },
    {
     "data": {
      "application/vnd.jupyter.widget-view+json": {
       "model_id": "3a9710b0f98e422eb55d0e8e2bdf74e1",
       "version_major": 2,
       "version_minor": 0
      },
      "text/plain": [
       "tokenizer.json: 0.00B [00:00, ?B/s]"
      ]
     },
     "metadata": {},
     "output_type": "display_data"
    },
    {
     "data": {
      "application/vnd.jupyter.widget-view+json": {
       "model_id": "252d7a1c404840299c828022495ddfc4",
       "version_major": 2,
       "version_minor": 0
      },
      "text/plain": [
       "special_tokens_map.json:   0%|          | 0.00/112 [00:00<?, ?B/s]"
      ]
     },
     "metadata": {},
     "output_type": "display_data"
    },
    {
     "data": {
      "application/vnd.jupyter.widget-view+json": {
       "model_id": "91d842529df949a0a41d07fc083e792f",
       "version_major": 2,
       "version_minor": 0
      },
      "text/plain": [
       "config.json:   0%|          | 0.00/190 [00:00<?, ?B/s]"
      ]
     },
     "metadata": {},
     "output_type": "display_data"
    },
    {
     "name": "stdout",
     "output_type": "stream",
     "text": [
      "Embeddings shape: (5, 384)\n",
      "FAISS ntotal: 5\n",
      "\n",
      "Query: What is AI?\n",
      "Rank 1: Artificial intelligence is transforming the world. (score: 0.5704)\n",
      "Rank 2: Neural networks are a subset of machine learning. (score: 0.4554)\n",
      "Rank 3: Machine learning enables systems to learn from data. (score: 0.3607)\n"
     ]
    }
   ],
   "source": [
    "# notebooks/embeddings_test.py\n",
    "from sentence_transformers import SentenceTransformer\n",
    "import numpy as np\n",
    "import faiss\n",
    "import os\n",
    "\n",
    "# 1) Load model\n",
    "model = SentenceTransformer(\"all-MiniLM-L6-v2\")  # small & fast\n",
    "\n",
    "# 2) Sample documents (replace with your dataset later)\n",
    "documents = [\n",
    "    \"Artificial intelligence is transforming the world.\",\n",
    "    \"Machine learning enables systems to learn from data.\",\n",
    "    \"Neural networks are a subset of machine learning.\",\n",
    "    \"The capital of France is Paris.\",\n",
    "    \"Python is a popular programming language.\"\n",
    "]\n",
    "\n",
    "# 3) Create embeddings\n",
    "vectors = model.encode(documents, convert_to_numpy=True)\n",
    "print(\"Embeddings shape:\", vectors.shape)\n",
    "\n",
    "# 4) Build FAISS index\n",
    "dimension = vectors.shape[1]\n",
    "index = faiss.IndexFlatIP(dimension)  # use inner product; normalize for cosine\n",
    "# normalize for cosine similarity\n",
    "faiss.normalize_L2(vectors)\n",
    "index.add(vectors)\n",
    "print(\"FAISS ntotal:\", index.ntotal)\n",
    "\n",
    "# 5) Query\n",
    "query = \"What is AI?\"\n",
    "q_vec = model.encode([query], convert_to_numpy=True)\n",
    "faiss.normalize_L2(q_vec)\n",
    "k = 3\n",
    "distances, indices = index.search(q_vec, k)\n",
    "print(\"\\nQuery:\", query)\n",
    "for rank, idx in enumerate(indices[0]):\n",
    "    print(f\"Rank {rank+1}: {documents[idx]} (score: {distances[0][rank]:.4f})\")\n"
   ]
  },
  {
   "cell_type": "code",
   "execution_count": null,
   "id": "712b47f8",
   "metadata": {},
   "outputs": [],
   "source": []
  }
 ],
 "metadata": {
  "kernelspec": {
   "display_name": "Python 3 (ipykernel)",
   "language": "python",
   "name": "python3"
  },
  "language_info": {
   "codemirror_mode": {
    "name": "ipython",
    "version": 3
   },
   "file_extension": ".py",
   "mimetype": "text/x-python",
   "name": "python",
   "nbconvert_exporter": "python",
   "pygments_lexer": "ipython3",
   "version": "3.12.4"
  }
 },
 "nbformat": 4,
 "nbformat_minor": 5
}
